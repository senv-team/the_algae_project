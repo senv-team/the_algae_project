{
 "cells": [
  {
   "cell_type": "code",
   "execution_count": 1,
   "id": "89199841-dcfd-421a-9f06-5ef9cc5deb0f",
   "metadata": {},
   "outputs": [],
   "source": [
    "%matplotlib inline"
   ]
  },
  {
   "cell_type": "code",
   "execution_count": 2,
   "id": "616a00b2-8049-4c80-ab79-94ca6115d230",
   "metadata": {},
   "outputs": [],
   "source": [
    "from pathlib import Path"
   ]
  },
  {
   "cell_type": "code",
   "execution_count": 3,
   "id": "ca7c53b2-bd31-4091-b389-6f2d61a102fd",
   "metadata": {},
   "outputs": [],
   "source": [
    "import matplotlib.pyplot as plt\n",
    "import numpy as np\n",
    "import pandas as pd\n",
    "from sklearn.model_selection import train_test_split\n",
    "from sklearn.preprocessing import LabelEncoder\n",
    "import torch\n",
    "from torch import nn\n",
    "from torch.nn import functional as F\n",
    "from torch.utils.data import TensorDataset, DataLoader\n",
    "from torch.optim.lr_scheduler import _LRScheduler\n",
    "import os"
   ]
  },
  {
   "cell_type": "code",
   "execution_count": 4,
   "id": "a6f5eaad-739d-4719-8df4-e5f7efbcc04c",
   "metadata": {},
   "outputs": [],
   "source": [
    "seed = 1\n",
    "np.random.seed(seed)\n",
    "torch.cuda.set_device(0)  # if you have more than one CUDA device"
   ]
  },
  {
   "cell_type": "code",
   "execution_count": 5,
   "id": "d52cadde-bfe9-4378-8bfb-a386ec368b66",
   "metadata": {},
   "outputs": [],
   "source": [
    "ROOT = '../../datasets/csv/dummy'\n",
    "SAMPLE = os.path.join(ROOT, 'sample_submission.csv')\n",
    "TRAIN = os.path.join(ROOT, 'X_train.csv')\n",
    "TARGET = os.path.join(ROOT, 'y_train.csv')\n",
    "TEST = os.path.join(ROOT, 'X_test.csv')\n",
    "\n",
    "ID_COLS = ['series_id', 'measurement_number']\n",
    "\n",
    "x_cols = {\n",
    "    'series_id': np.uint32,\n",
    "    'measurement_number': np.uint32,\n",
    "    'orientation_X': np.float32,\n",
    "    'orientation_Y': np.float32,\n",
    "    'orientation_Z': np.float32,\n",
    "    'orientation_W': np.float32,\n",
    "    'angular_velocity_X': np.float32,\n",
    "    'angular_velocity_Y': np.float32,\n",
    "    'angular_velocity_Z': np.float32,\n",
    "    'linear_acceleration_X': np.float32,\n",
    "    'linear_acceleration_Y': np.float32,\n",
    "    'linear_acceleration_Z': np.float32\n",
    "}\n",
    "\n",
    "y_cols = {\n",
    "    'series_id': np.uint32,\n",
    "    'group_id': np.uint32,\n",
    "    'surface': str\n",
    "}"
   ]
  },
  {
   "cell_type": "code",
   "execution_count": 6,
   "id": "6fb3b447-2070-481f-9d7c-539c839f2d11",
   "metadata": {},
   "outputs": [],
   "source": [
    "x_trn = pd.read_csv(TRAIN, usecols=x_cols.keys(), dtype=x_cols)\n",
    "x_tst = pd.read_csv(TEST, usecols=x_cols.keys(), dtype=x_cols)\n",
    "y_trn = pd.read_csv(TARGET, usecols=y_cols.keys(), dtype=y_cols)"
   ]
  },
  {
   "cell_type": "code",
   "execution_count": 7,
   "id": "6fa18337-2f3a-491d-be29-1ea2fc8701eb",
   "metadata": {},
   "outputs": [],
   "source": [
    "def create_datasets(X, y, test_size=0.2, dropcols=ID_COLS, time_dim_first=False):\n",
    "    enc = LabelEncoder()\n",
    "    y_enc = enc.fit_transform(y)\n",
    "    X_grouped = create_grouped_array(X)\n",
    "    if time_dim_first:\n",
    "        X_grouped = X_grouped.transpose(0, 2, 1)\n",
    "    X_train, X_valid, y_train, y_valid = train_test_split(X_grouped, y_enc, test_size=0.1)\n",
    "    X_train, X_valid = [torch.tensor(arr, dtype=torch.float32) for arr in (X_train, X_valid)]\n",
    "    y_train, y_valid = [torch.tensor(arr, dtype=torch.long) for arr in (y_train, y_valid)]\n",
    "    train_ds = TensorDataset(X_train, y_train)\n",
    "    valid_ds = TensorDataset(X_valid, y_valid)\n",
    "    return train_ds, valid_ds, enc\n",
    "\n",
    "\n",
    "def create_grouped_array(data, group_col='series_id', drop_cols=ID_COLS):\n",
    "    X_grouped = np.row_stack([\n",
    "        group.drop(columns=drop_cols).values[None]\n",
    "        for _, group in data.groupby(group_col)])\n",
    "    return X_grouped\n",
    "\n",
    "\n",
    "def create_test_dataset(X, drop_cols=ID_COLS):\n",
    "    X_grouped = np.row_stack([\n",
    "        group.drop(columns=drop_cols).values[None]\n",
    "        for _, group in X.groupby('series_id')])\n",
    "    X_grouped = torch.tensor(X_grouped.transpose(0, 2, 1)).float()\n",
    "    y_fake = torch.tensor([0] * len(X_grouped)).long()\n",
    "    return TensorDataset(X_grouped, y_fake)\n",
    "\n",
    "\n",
    "def create_loaders(train_ds, valid_ds, bs=512, jobs=0):\n",
    "    train_dl = DataLoader(train_ds, bs, shuffle=True, num_workers=jobs)\n",
    "    valid_dl = DataLoader(valid_ds, bs, shuffle=False, num_workers=jobs)\n",
    "    return train_dl, valid_dl\n",
    "\n",
    "\n",
    "def accuracy(output, target):\n",
    "    return (output.argmax(dim=1) == target).float().mean().item()"
   ]
  },
  {
   "cell_type": "code",
   "execution_count": 8,
   "id": "fe6b2582-a498-490b-9d6d-a4e0f127f9c1",
   "metadata": {},
   "outputs": [],
   "source": [
    "class CyclicLR(_LRScheduler):\n",
    "    \n",
    "    def __init__(self, optimizer, schedule, last_epoch=-1):\n",
    "        assert callable(schedule)\n",
    "        self.schedule = schedule\n",
    "        super().__init__(optimizer, last_epoch)\n",
    "\n",
    "    def get_lr(self):\n",
    "        return [self.schedule(self.last_epoch, lr) for lr in self.base_lrs]"
   ]
  },
  {
   "cell_type": "code",
   "execution_count": 9,
   "id": "e4910311-39fd-4124-a30f-894c116318dc",
   "metadata": {},
   "outputs": [],
   "source": [
    "def cosine(t_max, eta_min=0):\n",
    "    \n",
    "    def scheduler(epoch, base_lr):\n",
    "        t = epoch % t_max\n",
    "        return eta_min + (base_lr - eta_min)*(1 + np.cos(np.pi*t/t_max))/2\n",
    "    \n",
    "    return scheduler"
   ]
  },
  {
   "cell_type": "code",
   "execution_count": 10,
   "id": "47f4355c-d4fc-4227-98b1-31577ef3e512",
   "metadata": {},
   "outputs": [
    {
     "data": {
      "text/plain": [
       "[<matplotlib.lines.Line2D at 0x1b708067460>]"
      ]
     },
     "execution_count": 10,
     "metadata": {},
     "output_type": "execute_result"
    },
    {
     "data": {
      "image/png": "[encoded data removed]",
      "text/plain": [
       "<Figure size 432x288 with 1 Axes>"
      ]
     },
     "metadata": {
      "needs_background": "light"
     },
     "output_type": "display_data"
    }
   ],
   "source": [
    "n = 100\n",
    "sched = cosine(n)\n",
    "lrs = [sched(t, 1) for t in range(n * 4)]\n",
    "plt.plot(lrs)"
   ]
  },
  {
   "cell_type": "code",
   "execution_count": 34,
   "id": "1ccb6f1c-c039-4f42-8cd0-45379159ef50",
   "metadata": {},
   "outputs": [],
   "source": [
    "\n",
    "\n",
    "class LSTMClassifier(nn.Module):\n",
    "    \"\"\"Very simple implementation of LSTM-based time-series classifier.\"\"\"\n",
    "    \n",
    "    def __init__(self, input_dim, hidden_dim, layer_dim, output_dim):\n",
    "        super().__init__()\n",
    "        self.hidden_dim = hidden_dim\n",
    "        self.layer_dim = layer_dim\n",
    "        self.rnn = nn.LSTM(input_dim, hidden_dim, layer_dim, batch_first=True)\n",
    "        self.fc = nn.Linear(hidden_dim, output_dim)\n",
    "        self.batch_size = None\n",
    "        self.hidden = None\n",
    "    \n",
    "    def forward(self, x):\n",
    "        h0, c0 = self.init_hidden(x)\n",
    "        out, (hn, cn) = self.rnn(x, (h0, c0)) # (h0, c0)\n",
    "        out = F.dropout(out, 0.3) # chris\n",
    "        #out = self.fc(hn[-1])\n",
    "        out = self.fc(out[:, -1, :]) # out at the last time step\n",
    "        return out\n",
    "    \n",
    "    def init_hidden(self, x):\n",
    "        h0 = torch.zeros(self.layer_dim, x.size(0), self.hidden_dim)\n",
    "        c0 = torch.zeros(self.layer_dim, x.size(0), self.hidden_dim)\n",
    "        return [t.cuda() for t in (h0, c0)]\n",
    "\n"
   ]
  },
  {
   "cell_type": "code",
   "execution_count": 35,
   "id": "ddb111f0-7ae4-4b8e-9953-095e525b1b79",
   "metadata": {},
   "outputs": [
    {
     "name": "stdout",
     "output_type": "stream",
     "text": [
      "Preparing datasets\n"
     ]
    }
   ],
   "source": [
    "print('Preparing datasets')\n",
    "trn_ds, val_ds, enc = create_datasets(x_trn, y_trn['surface'])\n"
   ]
  },
  {
   "cell_type": "code",
   "execution_count": 36,
   "id": "2a39469c-7c5d-4e67-939b-ce05776d1e0f",
   "metadata": {},
   "outputs": [
    {
     "name": "stdout",
     "output_type": "stream",
     "text": [
      "Creating data loaders with batch size: 128\n"
     ]
    }
   ],
   "source": [
    "bs = 128\n",
    "print(f'Creating data loaders with batch size: {bs}')\n",
    "trn_dl, val_dl = create_loaders(trn_ds, val_ds, bs)"
   ]
  },
  {
   "cell_type": "code",
   "execution_count": 37,
   "id": "f7008888-69e8-457d-8195-ce68925f89d9",
   "metadata": {},
   "outputs": [
    {
     "name": "stdout",
     "output_type": "stream",
     "text": [
      "Start model training\n"
     ]
    },
    {
     "name": "stderr",
     "output_type": "stream",
     "text": [
      "C:\\Users\\Prinzessin\\anaconda3\\envs\\feta\\lib\\site-packages\\torch\\optim\\lr_scheduler.py:138: UserWarning: Detected call of `lr_scheduler.step()` before `optimizer.step()`. In PyTorch 1.1.0 and later, you should call them in the opposite order: `optimizer.step()` before `lr_scheduler.step()`.  Failure to do this will result in PyTorch skipping the first value of the learning rate schedule. See more details at https://pytorch.org/docs/stable/optim.html#how-to-adjust-learning-rate\n",
      "  warnings.warn(\"Detected call of `lr_scheduler.step()` before `optimizer.step()`. \"\n"
     ]
    },
    {
     "name": "stdout",
     "output_type": "stream",
     "text": [
      "Epoch 1 best model saved with accuracy: 23.62%\n",
      "Epoch 4 best model saved with accuracy: 24.93%\n",
      "Epoch:   5. Loss: 1.7855. Acc.: 27.56%\n",
      "Epoch 5 best model saved with accuracy: 27.56%\n",
      "Epoch 6 best model saved with accuracy: 27.82%\n",
      "Epoch 8 best model saved with accuracy: 31.50%\n",
      "Epoch 9 best model saved with accuracy: 35.70%\n",
      "Epoch:  10. Loss: 1.6401. Acc.: 34.91%\n",
      "Epoch 11 best model saved with accuracy: 38.58%\n",
      "Epoch:  15. Loss: 1.6205. Acc.: 43.04%\n",
      "Epoch 15 best model saved with accuracy: 43.04%\n",
      "Epoch 18 best model saved with accuracy: 43.31%\n",
      "Epoch:  20. Loss: 1.4384. Acc.: 43.04%\n",
      "Epoch 21 best model saved with accuracy: 46.98%\n",
      "Epoch:  25. Loss: 1.3412. Acc.: 49.34%\n",
      "Epoch 25 best model saved with accuracy: 49.34%\n",
      "Epoch 28 best model saved with accuracy: 50.13%\n",
      "Epoch 29 best model saved with accuracy: 54.33%\n",
      "Epoch:  30. Loss: 1.3115. Acc.: 52.76%\n",
      "Epoch 33 best model saved with accuracy: 54.86%\n",
      "Epoch:  35. Loss: 1.1846. Acc.: 55.12%\n",
      "Epoch 35 best model saved with accuracy: 55.12%\n",
      "Epoch 39 best model saved with accuracy: 56.96%\n",
      "Epoch:  40. Loss: 1.2071. Acc.: 46.98%\n",
      "Epoch 44 best model saved with accuracy: 59.06%\n",
      "Epoch:  45. Loss: 0.9837. Acc.: 59.84%\n",
      "Epoch 45 best model saved with accuracy: 59.84%\n",
      "Epoch 46 best model saved with accuracy: 61.42%\n",
      "Epoch 49 best model saved with accuracy: 61.94%\n",
      "Epoch:  50. Loss: 0.9011. Acc.: 43.57%\n"
     ]
    }
   ],
   "source": [
    "input_dim = 10    \n",
    "hidden_dim = 256\n",
    "layer_dim = 3\n",
    "output_dim = 9\n",
    "seq_dim = 128\n",
    "\n",
    "# Dummy EEG data (batch_size=100, seq_length=50, input_dim=10)\n",
    "# X = torch.randn(100, 50, 10)  # (100 samples, 50 time steps, 10 features per time step)\n",
    "\n",
    "lr = 0.0005\n",
    "n_epochs = 50\n",
    "iterations_per_epoch = len(trn_dl)\n",
    "best_acc = 0\n",
    "patience, trials = 100, 0\n",
    "\n",
    "model = LSTMClassifier(input_dim, hidden_dim, layer_dim, output_dim)\n",
    "model = model.cuda()\n",
    "criterion = nn.CrossEntropyLoss()\n",
    "opt = torch.optim.RMSprop(model.parameters(), lr=lr)\n",
    "sched = CyclicLR(opt, cosine(t_max=iterations_per_epoch * 2, eta_min=lr/100))\n",
    "\n",
    "print('Start model training')\n",
    "\n",
    "for epoch in range(1, n_epochs + 1):\n",
    "    \n",
    "    for i, (x_batch, y_batch) in enumerate(trn_dl):\n",
    "        model.train()\n",
    "        x_batch = x_batch.cuda()\n",
    "        y_batch = y_batch.cuda()\n",
    "        sched.step()\n",
    "        opt.zero_grad()\n",
    "        out = model(x_batch)\n",
    "        loss = criterion(out, y_batch)\n",
    "        loss.backward()\n",
    "        opt.step()\n",
    "    \n",
    "    model.eval()\n",
    "    correct, total = 0, 0\n",
    "    for x_val, y_val in val_dl:\n",
    "        x_val, y_val = [t.cuda() for t in (x_val, y_val)]\n",
    "        out = model(x_val)\n",
    "        preds = F.log_softmax(out, dim=1).argmax(dim=1)\n",
    "        total += y_val.size(0)\n",
    "        correct += (preds == y_val).sum().item()\n",
    "    \n",
    "    acc = correct / total\n",
    "\n",
    "    if epoch % 5 == 0:\n",
    "        print(f'Epoch: {epoch:3d}. Loss: {loss.item():.4f}. Acc.: {acc:2.2%}')\n",
    "\n",
    "    if acc > best_acc:\n",
    "        trials = 0\n",
    "        best_acc = acc\n",
    "        torch.save(model.state_dict(), 'best.pth')\n",
    "        print(f'Epoch {epoch} best model saved with accuracy: {best_acc:2.2%}')\n",
    "    else:\n",
    "        trials += 1\n",
    "        if trials >= patience:\n",
    "            print(f'Early stopping on epoch {epoch}')\n",
    "            break"
   ]
  },
  {
   "cell_type": "code",
   "execution_count": 20,
   "id": "cd4fabbf-ded2-492c-9b9c-c14836a6ad4a",
   "metadata": {},
   "outputs": [
    {
     "name": "stdout",
     "output_type": "stream",
     "text": [
      "The training is finished! Restoring the best model weights\n"
     ]
    }
   ],
   "source": [
    "print('The training is finished! Restoring the best model weights')"
   ]
  },
  {
   "cell_type": "code",
   "execution_count": 21,
   "id": "5f260049-28f8-41bd-adef-766c703b45cf",
   "metadata": {},
   "outputs": [
    {
     "data": {
      "text/plain": [
       "<All keys matched successfully>"
      ]
     },
     "execution_count": 21,
     "metadata": {},
     "output_type": "execute_result"
    }
   ],
   "source": [
    "model.load_state_dict(torch.load('best.pth'))"
   ]
  },
  {
   "cell_type": "code",
   "execution_count": 22,
   "id": "3b38aa73-0ef9-4bff-bf36-c55dcb64739b",
   "metadata": {},
   "outputs": [
    {
     "data": {
      "text/plain": [
       "LSTMClassifier(\n",
       "  (rnn): LSTM(10, 256, num_layers=3, batch_first=True)\n",
       "  (fc): Linear(in_features=256, out_features=9, bias=True)\n",
       ")"
      ]
     },
     "execution_count": 22,
     "metadata": {},
     "output_type": "execute_result"
    }
   ],
   "source": [
    "model.eval()"
   ]
  },
  {
   "cell_type": "code",
   "execution_count": 23,
   "id": "3938bd1f-9971-4182-801f-4d19d9ebf7d9",
   "metadata": {},
   "outputs": [],
   "source": [
    "test_dl = DataLoader(create_test_dataset(x_tst), batch_size=128, shuffle=False)"
   ]
  },
  {
   "cell_type": "code",
   "execution_count": 24,
   "id": "026110f4-a95c-4a35-9d0a-c1663e1b34b5",
   "metadata": {},
   "outputs": [
    {
     "name": "stdout",
     "output_type": "stream",
     "text": [
      "Predicting on test dataset\n",
      "torch.Size([128, 9])\n",
      "torch.Size([128, 9])\n",
      "torch.Size([128, 9])\n",
      "torch.Size([128, 9])\n",
      "torch.Size([128, 9])\n",
      "torch.Size([128, 9])\n",
      "torch.Size([128, 9])\n",
      "torch.Size([128, 9])\n",
      "torch.Size([128, 9])\n",
      "torch.Size([128, 9])\n",
      "torch.Size([128, 9])\n",
      "torch.Size([128, 9])\n",
      "torch.Size([128, 9])\n",
      "torch.Size([128, 9])\n",
      "torch.Size([128, 9])\n",
      "torch.Size([128, 9])\n",
      "torch.Size([128, 9])\n",
      "torch.Size([128, 9])\n",
      "torch.Size([128, 9])\n",
      "torch.Size([128, 9])\n",
      "torch.Size([128, 9])\n",
      "torch.Size([128, 9])\n",
      "torch.Size([128, 9])\n",
      "torch.Size([128, 9])\n",
      "torch.Size([128, 9])\n",
      "torch.Size([128, 9])\n",
      "torch.Size([128, 9])\n",
      "torch.Size([128, 9])\n",
      "torch.Size([128, 9])\n",
      "torch.Size([104, 9])\n"
     ]
    }
   ],
   "source": [
    "test = []\n",
    "print('Predicting on test dataset')\n",
    "for batch, _ in test_dl:\n",
    "    batch = batch.permute(0, 2, 1)\n",
    "    out = model(batch.cuda())\n",
    "    print(out.shape)\n",
    "    y_hat = F.log_softmax(out, dim=1).argmax(dim=1)\n",
    "    test += y_hat.tolist()"
   ]
  },
  {
   "cell_type": "code",
   "execution_count": 25,
   "id": "1c6d5fa1-440a-4a8f-9aba-e5dc66e96cc5",
   "metadata": {},
   "outputs": [],
   "source": [
    "submit = pd.read_csv(SAMPLE)\n",
    "submit['surface'] = enc.inverse_transform(test)\n",
    "submit.to_csv('submit.csv', index=None)"
   ]
  },
  {
   "cell_type": "code",
   "execution_count": null,
   "id": "d8d00238-a743-4d2e-9e06-67e3ae9dead1",
   "metadata": {},
   "outputs": [],
   "source": []
  }
 ],
 "metadata": {
  "kernelspec": {
   "display_name": "Python 3 (ipykernel)",
   "language": "python",
   "name": "python3"
  },
  "language_info": {
   "codemirror_mode": {
    "name": "ipython",
    "version": 3
   },
   "file_extension": ".py",
   "mimetype": "text/x-python",
   "name": "python",
   "nbconvert_exporter": "python",
   "pygments_lexer": "ipython3",
   "version": "3.9.10"
  }
 },
 "nbformat": 4,
 "nbformat_minor": 5
}
